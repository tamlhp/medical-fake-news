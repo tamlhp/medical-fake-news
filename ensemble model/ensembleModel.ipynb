{
  "nbformat": 4,
  "nbformat_minor": 0,
  "metadata": {
    "colab": {
      "name": "ensembleModel.ipynb",
      "provenance": [],
      "machine_shape": "hm"
    },
    "kernelspec": {
      "name": "python3",
      "display_name": "Python 3"
    },
    "language_info": {
      "name": "python"
    }
  },
  "cells": [
    {
      "cell_type": "code",
      "execution_count": null,
      "metadata": {
        "id": "KHGMKuKW3yqI"
      },
      "outputs": [],
      "source": [
        "from google.colab import drive\n",
        "drive.mount('/content/drive')"
      ]
    },
    {
      "cell_type": "code",
      "source": [
        "# import some librarys\n",
        "import tensorflow as tf\n",
        "import pandas as pd\n",
        "import numpy as np\n",
        "import seaborn as sn\n",
        "import matplotlib.pyplot as plt\n",
        "\n",
        "from sklearn import metrics\n",
        "from tensorflow.keras.preprocessing.text import Tokenizer\n",
        "from tensorflow.keras.preprocessing.sequence import pad_sequences\n",
        "from sklearn.model_selection import KFold\n",
        "from collections import Counter\n",
        "from sklearn.svm import SVC\n",
        "from sklearn.pipeline import Pipeline\n",
        "from sklearn.feature_extraction.text import TfidfVectorizer\n",
        "from sklearn.naive_bayes import MultinomialNB\n",
        "from sklearn.pipeline import make_pipeline"
      ],
      "metadata": {
        "id": "_pCqypIL4Hzv"
      },
      "execution_count": 3,
      "outputs": []
    },
    {
      "cell_type": "code",
      "source": [
        "# you have to change the path\n",
        "dataSet = pd.read_csv('/content/drive/MyDrive/Abschlussarbeit/Datasets/Dataset/tweets_without_cleaning.csv', sep = \",\")"
      ],
      "metadata": {
        "id": "17xGL0Nr5GUQ"
      },
      "execution_count": 4,
      "outputs": []
    },
    {
      "cell_type": "code",
      "source": [
        "# hyperparameter for keras model an tensorflow tokenizer and cross validation\n",
        "vocab_size = 45000\n",
        "embedding_dim = 18\n",
        "max_length = 250\n",
        "trunc_type='post'\n",
        "padding_type='post'\n",
        "oov_tok = \"<OOV>\""
      ],
      "metadata": {
        "id": "3ropVaVI6LSA"
      },
      "execution_count": 5,
      "outputs": []
    },
    {
      "cell_type": "code",
      "source": [
        "dataSet_text = dataSet['text']\n",
        "dataSet_label = dataSet['label']\n",
        "accuracy  = 0\n",
        "recall    = 0\n",
        "f1_score  = 0\n",
        "precision = 0\n",
        "print('------------------------------------------------------------')\n",
        "print('!!!!!  dataset used is : tweets without cleaning  !!!!!')\n",
        "print('------------------------------------------------------------')\n",
        "#cross validation counter\n",
        "split = 1\n",
        "kfold = KFold(n_splits=10, shuffle=True)\n",
        "#cross validation loop\n",
        "for train, test in kfold.split(dataSet_text, dataSet_label):\n",
        "  #convert the vectors to np array\n",
        "  training_labels = np.array(dataSet_label[train])\n",
        "  testing_labels  = np.array(dataSet_label[test])\n",
        "  training_padded = np.array(dataSet_text[train])\n",
        "  testing_padded  = np.array(dataSet_text[test])\n",
        "  \n",
        "  #some output\n",
        "  print('             !!!!!  split number : '+ str(split) + '  !!!!!')\n",
        "  print('     ' + f'In training: {Counter(training_labels)}')\n",
        "  print('     ' + f'In testing: {Counter(testing_labels)}')\n",
        "\n",
        "\n",
        "########################### SVM model ###########################\n",
        "\n",
        "  #creat SVM model \n",
        "  svm_model = Pipeline([('tfidf',TfidfVectorizer()), ('clf', SVC(probability=True)),])\n",
        "  #fit the model\n",
        "  svm_model.fit(training_padded, training_labels)\n",
        "  #get the predicted lable\n",
        "  svm_lable_predicted = svm_model.predict(testing_padded)\n",
        "\n",
        "########################### end of SVM model ###########################\n",
        "\n",
        "\n",
        "########################### Naive-Bayes model ###########################\n",
        "\n",
        "  #creat Naive-Bayes model\n",
        "  Naive_Bayes_model = make_pipeline(TfidfVectorizer(), MultinomialNB())\n",
        "  #fit the model\n",
        "  Naive_Bayes_model.fit(training_padded, training_labels)\n",
        "  #get the predicted lable  \n",
        "  Naive_Bayes_lable_predicted = Naive_Bayes_model.predict(testing_padded)\n",
        "\n",
        "########################### end of Naive-Bayes model ###########################\n",
        "\n",
        "\n",
        "########################### Tensorflow tokenizer and Keras model ###########################\n",
        "\n",
        "  #create the tokenizer and fit the tokenizer dictionary\n",
        "  tokenizer = Tokenizer(num_words=vocab_size, oov_token=oov_tok)\n",
        "  tokenizer.fit_on_texts(dataSet_text[train])\n",
        "  #convert texts to sequences\n",
        "  training_sequences = tokenizer.texts_to_sequences(dataSet_text[train])\n",
        "  testing_sequences = tokenizer.texts_to_sequences(dataSet_text[test])\n",
        "  #make the sequences in the same length\n",
        "  training_padded = pad_sequences(training_sequences, maxlen=max_length, padding=padding_type, truncating=trunc_type)    \n",
        "  testing_padded = pad_sequences(testing_sequences, maxlen=max_length, padding=padding_type, truncating=trunc_type)\n",
        "  \n",
        "  #convert the vectors to np array\n",
        "  training_padded = np.array(training_padded)\n",
        "  testing_padded = np.array(testing_padded)\n",
        "  \n",
        "  #create the keras model with 4 layers\n",
        "  keras_model = tf.keras.Sequential([\n",
        "  tf.keras.layers.Embedding(vocab_size, embedding_dim, input_length=max_length),\n",
        "  tf.keras.layers.GlobalAveragePooling1D(),\n",
        "  tf.keras.layers.Dense(24, activation='relu'),\n",
        "  tf.keras.layers.Dense(1, activation='sigmoid')\n",
        "  ])\n",
        "\n",
        "  #create the metrics array\n",
        "  metrics_array = [\n",
        "      tf.keras.metrics.BinaryAccuracy(name='accuracy'),\n",
        "      tf.keras.metrics.Precision(name='precision'),\n",
        "      tf.keras.metrics.Recall(name='recall')\n",
        "  ]\n",
        "  #compile the model\n",
        "  keras_model.compile(loss='binary_crossentropy',optimizer='adam',metrics=metrics_array)\n",
        "\n",
        "  #model training with 15 epochs\n",
        "  history = keras_model.fit(training_padded, training_labels, epochs=15, validation_data=(testing_padded, testing_labels), verbose=2)\n",
        "\n",
        "  # testing the model\n",
        "  keras_lable_predicted = keras_model.predict(testing_padded)\n",
        "  keras_lable_predicted = keras_lable_predicted.flatten()\n",
        "  keras_lable_predicted = np.where(keras_lable_predicted > 0.5, True, False)\n",
        "\n",
        "########################### end of Tensorflow tokenizer and Keras model ###########################\n",
        "\n",
        "\n",
        "  # create final predicted result\n",
        "  lable_predicted = []\n",
        "  for i in range (0, len(testing_labels)):\n",
        "    if  (keras_lable_predicted[i] and  Naive_Bayes_lable_predicted[i]) or ( keras_lable_predicted[i] and svm_lable_predicted[i]) or ( Naive_Bayes_lable_predicted[i] and svm_lable_predicted[i]):\n",
        "      lable_predicted.append(True)\n",
        "    else:\n",
        "      lable_predicted.append(False)\n",
        "\n",
        "  #create and show the confusion matrix\n",
        "  cm = metrics.confusion_matrix(testing_labels, lable_predicted)\n",
        "  sn.heatmap(cm, annot=True, fmt='d')\n",
        "  plt.xlabel('Predicted')\n",
        "  plt.ylabel('Truth')\n",
        "  plt.title('confusion matrix')\n",
        "  plt.show()\n",
        "\n",
        "  #show the classification report \n",
        "  print(metrics.classification_report(testing_labels, lable_predicted))\n",
        "\n",
        "  #add the new metrics result from the new cross val. to the old  metrics result from the old cross val.\n",
        "  accuracy  = accuracy + metrics.accuracy_score(testing_labels, lable_predicted)\n",
        "  recall    = recall + metrics.recall_score(testing_labels, lable_predicted)\n",
        "  f1_score  = f1_score + metrics.f1_score(testing_labels, lable_predicted)\n",
        "  precision = precision + metrics.precision_score(testing_labels, lable_predicted)\n",
        "  #indexing\n",
        "  split = split + 1\n",
        "\n",
        "#compute the mean of the using metrics in the cross val.\n",
        "accuracy  = accuracy / 10\n",
        "recall    = recall / 10\n",
        "f1_score  = f1_score / 10\n",
        "precision = precision / 10\n",
        "#some output\n",
        "print(\"mean accuracy for this experiment is \" + str(round(accuracy, 2)))\n",
        "print(\"mean recall for this experiment is \" + str(round(recall, 2)))\n",
        "print(\"mean precision for this experiment is \" + str(round(precision, 2)))\n",
        "print(\"mean f1_score for this experiment is \" + str(round(f1_score, 2)))\n"
      ],
      "metadata": {
        "colab": {
          "base_uri": "https://localhost:8080/",
          "height": 1000
        },
        "id": "3r7NOHt-6SDV",
        "outputId": "445d00ef-23ea-4255-8588-4c148fa339d6"
      },
      "execution_count": 6,
      "outputs": [
        {
          "output_type": "stream",
          "name": "stdout",
          "text": [
            "------------------------------------------------------------\n",
            "!!!!!  dataset used is : tweets without cleaning  !!!!!\n",
            "------------------------------------------------------------\n",
            "             !!!!!  split number : 1  !!!!!\n",
            "     In training: Counter({False: 8938, True: 8928})\n",
            "     In testing: Counter({True: 998, False: 988})\n",
            "Epoch 1/15\n",
            "559/559 - 5s - loss: 0.6298 - accuracy: 0.6821 - precision: 0.7603 - recall: 0.5312 - val_loss: 0.4685 - val_accuracy: 0.8489 - val_precision: 0.8643 - val_recall: 0.8297 - 5s/epoch - 9ms/step\n",
            "Epoch 2/15\n",
            "559/559 - 4s - loss: 0.3497 - accuracy: 0.8795 - precision: 0.8814 - recall: 0.8769 - val_loss: 0.2971 - val_accuracy: 0.8852 - val_precision: 0.8745 - val_recall: 0.9008 - 4s/epoch - 7ms/step\n",
            "Epoch 3/15\n",
            "559/559 - 4s - loss: 0.2337 - accuracy: 0.9175 - precision: 0.9153 - recall: 0.9200 - val_loss: 0.2537 - val_accuracy: 0.9074 - val_precision: 0.9443 - val_recall: 0.8667 - 4s/epoch - 7ms/step\n",
            "Epoch 4/15\n",
            "559/559 - 4s - loss: 0.1760 - accuracy: 0.9397 - precision: 0.9394 - recall: 0.9399 - val_loss: 0.2176 - val_accuracy: 0.9204 - val_precision: 0.9366 - val_recall: 0.9028 - 4s/epoch - 7ms/step\n",
            "Epoch 5/15\n",
            "559/559 - 4s - loss: 0.1407 - accuracy: 0.9516 - precision: 0.9533 - recall: 0.9496 - val_loss: 0.2003 - val_accuracy: 0.9225 - val_precision: 0.9315 - val_recall: 0.9128 - 4s/epoch - 7ms/step\n",
            "Epoch 6/15\n",
            "559/559 - 4s - loss: 0.1148 - accuracy: 0.9620 - precision: 0.9657 - recall: 0.9580 - val_loss: 0.1924 - val_accuracy: 0.9235 - val_precision: 0.9196 - val_recall: 0.9289 - 4s/epoch - 7ms/step\n",
            "Epoch 7/15\n",
            "559/559 - 4s - loss: 0.0950 - accuracy: 0.9699 - precision: 0.9740 - recall: 0.9655 - val_loss: 0.2195 - val_accuracy: 0.9109 - val_precision: 0.8749 - val_recall: 0.9599 - 4s/epoch - 7ms/step\n",
            "Epoch 8/15\n",
            "559/559 - 4s - loss: 0.0786 - accuracy: 0.9765 - precision: 0.9787 - recall: 0.9742 - val_loss: 0.1872 - val_accuracy: 0.9255 - val_precision: 0.9225 - val_recall: 0.9299 - 4s/epoch - 7ms/step\n",
            "Epoch 9/15\n",
            "559/559 - 4s - loss: 0.0649 - accuracy: 0.9809 - precision: 0.9834 - recall: 0.9782 - val_loss: 0.1877 - val_accuracy: 0.9270 - val_precision: 0.9295 - val_recall: 0.9248 - 4s/epoch - 7ms/step\n",
            "Epoch 10/15\n",
            "559/559 - 4s - loss: 0.0557 - accuracy: 0.9832 - precision: 0.9844 - recall: 0.9819 - val_loss: 0.1923 - val_accuracy: 0.9270 - val_precision: 0.9202 - val_recall: 0.9359 - 4s/epoch - 7ms/step\n",
            "Epoch 11/15\n",
            "559/559 - 4s - loss: 0.0462 - accuracy: 0.9866 - precision: 0.9883 - recall: 0.9849 - val_loss: 0.1951 - val_accuracy: 0.9305 - val_precision: 0.9283 - val_recall: 0.9339 - 4s/epoch - 7ms/step\n",
            "Epoch 12/15\n",
            "559/559 - 4s - loss: 0.0387 - accuracy: 0.9889 - precision: 0.9901 - recall: 0.9876 - val_loss: 0.2169 - val_accuracy: 0.9325 - val_precision: 0.9615 - val_recall: 0.9018 - 4s/epoch - 7ms/step\n",
            "Epoch 13/15\n",
            "559/559 - 4s - loss: 0.0319 - accuracy: 0.9919 - precision: 0.9934 - recall: 0.9905 - val_loss: 0.2191 - val_accuracy: 0.9315 - val_precision: 0.9575 - val_recall: 0.9038 - 4s/epoch - 7ms/step\n",
            "Epoch 14/15\n",
            "559/559 - 4s - loss: 0.0279 - accuracy: 0.9925 - precision: 0.9934 - recall: 0.9916 - val_loss: 0.2112 - val_accuracy: 0.9260 - val_precision: 0.9294 - val_recall: 0.9228 - 4s/epoch - 7ms/step\n",
            "Epoch 15/15\n",
            "559/559 - 4s - loss: 0.0229 - accuracy: 0.9941 - precision: 0.9950 - recall: 0.9933 - val_loss: 0.2246 - val_accuracy: 0.9215 - val_precision: 0.9048 - val_recall: 0.9429 - 4s/epoch - 7ms/step\n"
          ]
        },
        {
          "output_type": "display_data",
          "data": {
            "image/png": "[encoded data removed]",
            "text/plain": [
              "<Figure size 432x288 with 2 Axes>"
            ]
          },
          "metadata": {
            "needs_background": "light"
          }
        },
        {
          "output_type": "stream",
          "name": "stdout",
          "text": [
            "              precision    recall  f1-score   support\n",
            "\n",
            "       False       0.93      0.91      0.92       988\n",
            "        True       0.92      0.93      0.92       998\n",
            "\n",
            "    accuracy                           0.92      1986\n",
            "   macro avg       0.92      0.92      0.92      1986\n",
            "weighted avg       0.92      0.92      0.92      1986\n",
            "\n",
            "             !!!!!  split number : 2  !!!!!\n",
            "     In training: Counter({False: 8942, True: 8924})\n",
            "     In testing: Counter({True: 1002, False: 984})\n",
            "Epoch 1/15\n",
            "559/559 - 5s - loss: 0.6258 - accuracy: 0.6766 - precision: 0.6946 - recall: 0.6293 - val_loss: 0.4745 - val_accuracy: 0.8454 - val_precision: 0.7947 - val_recall: 0.9351 - 5s/epoch - 10ms/step\n",
            "Epoch 2/15\n",
            "559/559 - 4s - loss: 0.3480 - accuracy: 0.8773 - precision: 0.8758 - recall: 0.8789 - val_loss: 0.2886 - val_accuracy: 0.8978 - val_precision: 0.8913 - val_recall: 0.9082 - 4s/epoch - 7ms/step\n",
            "Epoch 3/15\n",
            "559/559 - 4s - loss: 0.2303 - accuracy: 0.9192 - precision: 0.9173 - recall: 0.9213 - val_loss: 0.2334 - val_accuracy: 0.9104 - val_precision: 0.9120 - val_recall: 0.9102 - 4s/epoch - 8ms/step\n",
            "Epoch 4/15\n",
            "559/559 - 4s - loss: 0.1741 - accuracy: 0.9410 - precision: 0.9424 - recall: 0.9393 - val_loss: 0.2093 - val_accuracy: 0.9194 - val_precision: 0.9079 - val_recall: 0.9351 - 4s/epoch - 8ms/step\n",
            "Epoch 5/15\n",
            "559/559 - 4s - loss: 0.1369 - accuracy: 0.9538 - precision: 0.9551 - recall: 0.9524 - val_loss: 0.1950 - val_accuracy: 0.9255 - val_precision: 0.9245 - val_recall: 0.9281 - 4s/epoch - 7ms/step\n",
            "Epoch 6/15\n",
            "559/559 - 4s - loss: 0.1102 - accuracy: 0.9636 - precision: 0.9670 - recall: 0.9598 - val_loss: 0.1909 - val_accuracy: 0.9320 - val_precision: 0.9474 - val_recall: 0.9162 - 4s/epoch - 7ms/step\n",
            "Epoch 7/15\n",
            "559/559 - 4s - loss: 0.0908 - accuracy: 0.9705 - precision: 0.9731 - recall: 0.9677 - val_loss: 0.1907 - val_accuracy: 0.9295 - val_precision: 0.9176 - val_recall: 0.9451 - 4s/epoch - 8ms/step\n",
            "Epoch 8/15\n",
            "559/559 - 4s - loss: 0.0740 - accuracy: 0.9765 - precision: 0.9793 - recall: 0.9736 - val_loss: 0.1897 - val_accuracy: 0.9381 - val_precision: 0.9435 - val_recall: 0.9331 - 4s/epoch - 8ms/step\n",
            "Epoch 9/15\n",
            "559/559 - 4s - loss: 0.0622 - accuracy: 0.9812 - precision: 0.9840 - recall: 0.9784 - val_loss: 0.2011 - val_accuracy: 0.9345 - val_precision: 0.9532 - val_recall: 0.9152 - 4s/epoch - 7ms/step\n",
            "Epoch 10/15\n",
            "559/559 - 4s - loss: 0.0526 - accuracy: 0.9847 - precision: 0.9860 - recall: 0.9834 - val_loss: 0.2005 - val_accuracy: 0.9371 - val_precision: 0.9497 - val_recall: 0.9242 - 4s/epoch - 8ms/step\n",
            "Epoch 11/15\n",
            "559/559 - 4s - loss: 0.0435 - accuracy: 0.9866 - precision: 0.9870 - recall: 0.9862 - val_loss: 0.2042 - val_accuracy: 0.9335 - val_precision: 0.9298 - val_recall: 0.9391 - 4s/epoch - 7ms/step\n",
            "Epoch 12/15\n",
            "559/559 - 4s - loss: 0.0349 - accuracy: 0.9910 - precision: 0.9929 - recall: 0.9891 - val_loss: 0.2408 - val_accuracy: 0.9275 - val_precision: 0.9653 - val_recall: 0.8882 - 4s/epoch - 7ms/step\n",
            "Epoch 13/15\n",
            "559/559 - 4s - loss: 0.0291 - accuracy: 0.9926 - precision: 0.9937 - recall: 0.9915 - val_loss: 0.2235 - val_accuracy: 0.9300 - val_precision: 0.9161 - val_recall: 0.9481 - 4s/epoch - 7ms/step\n",
            "Epoch 14/15\n",
            "559/559 - 4s - loss: 0.0249 - accuracy: 0.9936 - precision: 0.9939 - recall: 0.9932 - val_loss: 0.2305 - val_accuracy: 0.9305 - val_precision: 0.9194 - val_recall: 0.9451 - 4s/epoch - 7ms/step\n",
            "Epoch 15/15\n",
            "559/559 - 4s - loss: 0.0214 - accuracy: 0.9950 - precision: 0.9962 - recall: 0.9938 - val_loss: 0.2347 - val_accuracy: 0.9325 - val_precision: 0.9323 - val_recall: 0.9341 - 4s/epoch - 8ms/step\n"
          ]
        },
        {
          "output_type": "display_data",
          "data": {
            "image/png": "[encoded data removed]",
            "text/plain": [
              "<Figure size 432x288 with 2 Axes>"
            ]
          },
          "metadata": {
            "needs_background": "light"
          }
        },
        {
          "output_type": "stream",
          "name": "stdout",
          "text": [
            "              precision    recall  f1-score   support\n",
            "\n",
            "       False       0.94      0.93      0.94       984\n",
            "        True       0.94      0.94      0.94      1002\n",
            "\n",
            "    accuracy                           0.94      1986\n",
            "   macro avg       0.94      0.94      0.94      1986\n",
            "weighted avg       0.94      0.94      0.94      1986\n",
            "\n",
            "             !!!!!  split number : 3  !!!!!\n",
            "     In training: Counter({False: 8975, True: 8892})\n",
            "     In testing: Counter({True: 1034, False: 951})\n",
            "Epoch 1/15\n",
            "559/559 - 6s - loss: 0.6378 - accuracy: 0.6781 - precision: 0.7981 - recall: 0.4729 - val_loss: 0.4785 - val_accuracy: 0.8242 - val_precision: 0.8960 - val_recall: 0.7495 - 6s/epoch - 10ms/step\n",
            "Epoch 2/15\n",
            "559/559 - 4s - loss: 0.3600 - accuracy: 0.8722 - precision: 0.8774 - recall: 0.8639 - val_loss: 0.2888 - val_accuracy: 0.8972 - val_precision: 0.9014 - val_recall: 0.9014 - 4s/epoch - 7ms/step\n",
            "Epoch 3/15\n",
            "559/559 - 4s - loss: 0.2415 - accuracy: 0.9153 - precision: 0.9137 - recall: 0.9164 - val_loss: 0.2292 - val_accuracy: 0.9189 - val_precision: 0.9193 - val_recall: 0.9255 - 4s/epoch - 7ms/step\n",
            "Epoch 4/15\n",
            "559/559 - 4s - loss: 0.1836 - accuracy: 0.9352 - precision: 0.9363 - recall: 0.9333 - val_loss: 0.2010 - val_accuracy: 0.9264 - val_precision: 0.9245 - val_recall: 0.9352 - 4s/epoch - 7ms/step\n",
            "Epoch 5/15\n",
            "559/559 - 4s - loss: 0.1460 - accuracy: 0.9508 - precision: 0.9528 - recall: 0.9482 - val_loss: 0.1882 - val_accuracy: 0.9300 - val_precision: 0.9186 - val_recall: 0.9497 - 4s/epoch - 8ms/step\n",
            "Epoch 6/15\n",
            "559/559 - 4s - loss: 0.1210 - accuracy: 0.9595 - precision: 0.9626 - recall: 0.9557 - val_loss: 0.1766 - val_accuracy: 0.9325 - val_precision: 0.9386 - val_recall: 0.9313 - 4s/epoch - 7ms/step\n",
            "Epoch 7/15\n",
            "559/559 - 4s - loss: 0.1001 - accuracy: 0.9677 - precision: 0.9704 - recall: 0.9646 - val_loss: 0.1789 - val_accuracy: 0.9325 - val_precision: 0.9582 - val_recall: 0.9101 - 4s/epoch - 7ms/step\n",
            "Epoch 8/15\n",
            "559/559 - 4s - loss: 0.0840 - accuracy: 0.9738 - precision: 0.9772 - recall: 0.9700 - val_loss: 0.1713 - val_accuracy: 0.9325 - val_precision: 0.9253 - val_recall: 0.9468 - 4s/epoch - 7ms/step\n",
            "Epoch 9/15\n",
            "559/559 - 4s - loss: 0.0705 - accuracy: 0.9783 - precision: 0.9810 - recall: 0.9753 - val_loss: 0.1722 - val_accuracy: 0.9345 - val_precision: 0.9248 - val_recall: 0.9516 - 4s/epoch - 7ms/step\n",
            "Epoch 10/15\n",
            "559/559 - 4s - loss: 0.0607 - accuracy: 0.9821 - precision: 0.9845 - recall: 0.9795 - val_loss: 0.1715 - val_accuracy: 0.9375 - val_precision: 0.9333 - val_recall: 0.9478 - 4s/epoch - 7ms/step\n",
            "Epoch 11/15\n",
            "559/559 - 4s - loss: 0.0522 - accuracy: 0.9849 - precision: 0.9869 - recall: 0.9828 - val_loss: 0.1739 - val_accuracy: 0.9350 - val_precision: 0.9305 - val_recall: 0.9458 - 4s/epoch - 7ms/step\n",
            "Epoch 12/15\n",
            "559/559 - 4s - loss: 0.0437 - accuracy: 0.9881 - precision: 0.9892 - recall: 0.9868 - val_loss: 0.1801 - val_accuracy: 0.9370 - val_precision: 0.9540 - val_recall: 0.9236 - 4s/epoch - 7ms/step\n",
            "Epoch 13/15\n",
            "559/559 - 4s - loss: 0.0363 - accuracy: 0.9904 - precision: 0.9917 - recall: 0.9890 - val_loss: 0.1790 - val_accuracy: 0.9390 - val_precision: 0.9394 - val_recall: 0.9439 - 4s/epoch - 7ms/step\n",
            "Epoch 14/15\n",
            "559/559 - 4s - loss: 0.0312 - accuracy: 0.9924 - precision: 0.9935 - recall: 0.9913 - val_loss: 0.1855 - val_accuracy: 0.9380 - val_precision: 0.9301 - val_recall: 0.9526 - 4s/epoch - 7ms/step\n",
            "Epoch 15/15\n",
            "559/559 - 4s - loss: 0.0269 - accuracy: 0.9929 - precision: 0.9941 - recall: 0.9917 - val_loss: 0.1948 - val_accuracy: 0.9385 - val_precision: 0.9262 - val_recall: 0.9584 - 4s/epoch - 8ms/step\n"
          ]
        },
        {
          "output_type": "display_data",
          "data": {
            "image/png": "[encoded data removed]",
            "text/plain": [
              "<Figure size 432x288 with 2 Axes>"
            ]
          },
          "metadata": {
            "needs_background": "light"
          }
        },
        {
          "output_type": "stream",
          "name": "stdout",
          "text": [
            "              precision    recall  f1-score   support\n",
            "\n",
            "       False       0.95      0.93      0.94       951\n",
            "        True       0.94      0.96      0.95      1034\n",
            "\n",
            "    accuracy                           0.94      1985\n",
            "   macro avg       0.95      0.94      0.94      1985\n",
            "weighted avg       0.94      0.94      0.94      1985\n",
            "\n",
            "             !!!!!  split number : 4  !!!!!\n",
            "     In training: Counter({False: 8938, True: 8929})\n",
            "     In testing: Counter({True: 997, False: 988})\n",
            "Epoch 1/15\n",
            "559/559 - 5s - loss: 0.6147 - accuracy: 0.6908 - precision: 0.7066 - recall: 0.6520 - val_loss: 0.4412 - val_accuracy: 0.8710 - val_precision: 0.8365 - val_recall: 0.9238 - 5s/epoch - 9ms/step\n",
            "Epoch 2/15\n",
            "559/559 - 4s - loss: 0.3327 - accuracy: 0.8818 - precision: 0.8809 - recall: 0.8829 - val_loss: 0.2872 - val_accuracy: 0.8952 - val_precision: 0.9302 - val_recall: 0.8556 - 4s/epoch - 7ms/step\n",
            "Epoch 3/15\n",
            "559/559 - 4s - loss: 0.2185 - accuracy: 0.9230 - precision: 0.9221 - recall: 0.9240 - val_loss: 0.2293 - val_accuracy: 0.9179 - val_precision: 0.9290 - val_recall: 0.9057 - 4s/epoch - 7ms/step\n",
            "Epoch 4/15\n",
            "559/559 - 4s - loss: 0.1630 - accuracy: 0.9432 - precision: 0.9436 - recall: 0.9427 - val_loss: 0.2070 - val_accuracy: 0.9254 - val_precision: 0.9258 - val_recall: 0.9258 - 4s/epoch - 7ms/step\n",
            "Epoch 5/15\n",
            "559/559 - 4s - loss: 0.1276 - accuracy: 0.9557 - precision: 0.9581 - recall: 0.9530 - val_loss: 0.1975 - val_accuracy: 0.9264 - val_precision: 0.9209 - val_recall: 0.9338 - 4s/epoch - 7ms/step\n",
            "Epoch 6/15\n",
            "559/559 - 4s - loss: 0.1021 - accuracy: 0.9673 - precision: 0.9696 - recall: 0.9647 - val_loss: 0.1928 - val_accuracy: 0.9315 - val_precision: 0.9284 - val_recall: 0.9358 - 4s/epoch - 7ms/step\n",
            "Epoch 7/15\n",
            "559/559 - 4s - loss: 0.0831 - accuracy: 0.9743 - precision: 0.9764 - recall: 0.9721 - val_loss: 0.1943 - val_accuracy: 0.9360 - val_precision: 0.9541 - val_recall: 0.9168 - 4s/epoch - 7ms/step\n",
            "Epoch 8/15\n",
            "559/559 - 4s - loss: 0.0670 - accuracy: 0.9797 - precision: 0.9824 - recall: 0.9768 - val_loss: 0.1918 - val_accuracy: 0.9375 - val_precision: 0.9440 - val_recall: 0.9308 - 4s/epoch - 7ms/step\n",
            "Epoch 9/15\n",
            "559/559 - 4s - loss: 0.0554 - accuracy: 0.9836 - precision: 0.9857 - recall: 0.9814 - val_loss: 0.1950 - val_accuracy: 0.9360 - val_precision: 0.9412 - val_recall: 0.9308 - 4s/epoch - 7ms/step\n",
            "Epoch 10/15\n",
            "559/559 - 4s - loss: 0.0458 - accuracy: 0.9867 - precision: 0.9886 - recall: 0.9848 - val_loss: 0.2084 - val_accuracy: 0.9295 - val_precision: 0.9156 - val_recall: 0.9468 - 4s/epoch - 7ms/step\n",
            "Epoch 11/15\n",
            "559/559 - 4s - loss: 0.0382 - accuracy: 0.9897 - precision: 0.9906 - recall: 0.9888 - val_loss: 0.2203 - val_accuracy: 0.9310 - val_precision: 0.9574 - val_recall: 0.9027 - 4s/epoch - 7ms/step\n",
            "Epoch 12/15\n",
            "559/559 - 4s - loss: 0.0293 - accuracy: 0.9929 - precision: 0.9942 - recall: 0.9916 - val_loss: 0.2157 - val_accuracy: 0.9335 - val_precision: 0.9445 - val_recall: 0.9218 - 4s/epoch - 7ms/step\n",
            "Epoch 13/15\n",
            "559/559 - 4s - loss: 0.0243 - accuracy: 0.9946 - precision: 0.9956 - recall: 0.9936 - val_loss: 0.2245 - val_accuracy: 0.9305 - val_precision: 0.9405 - val_recall: 0.9198 - 4s/epoch - 7ms/step\n",
            "Epoch 14/15\n",
            "559/559 - 4s - loss: 0.0206 - accuracy: 0.9954 - precision: 0.9959 - recall: 0.9950 - val_loss: 0.2357 - val_accuracy: 0.9290 - val_precision: 0.9385 - val_recall: 0.9188 - 4s/epoch - 7ms/step\n",
            "Epoch 15/15\n",
            "559/559 - 4s - loss: 0.0171 - accuracy: 0.9960 - precision: 0.9970 - recall: 0.9950 - val_loss: 0.2453 - val_accuracy: 0.9315 - val_precision: 0.9250 - val_recall: 0.9398 - 4s/epoch - 7ms/step\n"
          ]
        },
        {
          "output_type": "display_data",
          "data": {
            "image/png": "[encoded data removed]",
            "text/plain": [
              "<Figure size 432x288 with 2 Axes>"
            ]
          },
          "metadata": {
            "needs_background": "light"
          }
        },
        {
          "output_type": "stream",
          "name": "stdout",
          "text": [
            "              precision    recall  f1-score   support\n",
            "\n",
            "       False       0.94      0.93      0.94       988\n",
            "        True       0.93      0.94      0.94       997\n",
            "\n",
            "    accuracy                           0.94      1985\n",
            "   macro avg       0.94      0.94      0.94      1985\n",
            "weighted avg       0.94      0.94      0.94      1985\n",
            "\n",
            "             !!!!!  split number : 5  !!!!!\n",
            "     In training: Counter({False: 8958, True: 8909})\n",
            "     In testing: Counter({True: 1017, False: 968})\n",
            "Epoch 1/15\n",
            "559/559 - 5s - loss: 0.6434 - accuracy: 0.6541 - precision: 0.7325 - recall: 0.4823 - val_loss: 0.5190 - val_accuracy: 0.8176 - val_precision: 0.8777 - val_recall: 0.7483 - 5s/epoch - 9ms/step\n",
            "Epoch 2/15\n",
            "559/559 - 4s - loss: 0.3775 - accuracy: 0.8752 - precision: 0.8845 - recall: 0.8623 - val_loss: 0.3288 - val_accuracy: 0.8695 - val_precision: 0.8998 - val_recall: 0.8387 - 4s/epoch - 7ms/step\n",
            "Epoch 3/15\n",
            "559/559 - 4s - loss: 0.2474 - accuracy: 0.9155 - precision: 0.9126 - recall: 0.9186 - val_loss: 0.2642 - val_accuracy: 0.8967 - val_precision: 0.9109 - val_recall: 0.8850 - 4s/epoch - 7ms/step\n",
            "Epoch 4/15\n",
            "559/559 - 4s - loss: 0.1850 - accuracy: 0.9359 - precision: 0.9371 - recall: 0.9341 - val_loss: 0.2338 - val_accuracy: 0.9113 - val_precision: 0.9086 - val_recall: 0.9194 - 4s/epoch - 7ms/step\n",
            "Epoch 5/15\n",
            "559/559 - 4s - loss: 0.1458 - accuracy: 0.9511 - precision: 0.9531 - recall: 0.9486 - val_loss: 0.2273 - val_accuracy: 0.9103 - val_precision: 0.9411 - val_recall: 0.8800 - 4s/epoch - 7ms/step\n",
            "Epoch 6/15\n",
            "559/559 - 4s - loss: 0.1210 - accuracy: 0.9595 - precision: 0.9616 - recall: 0.9569 - val_loss: 0.2194 - val_accuracy: 0.9139 - val_precision: 0.8931 - val_recall: 0.9449 - 4s/epoch - 7ms/step\n",
            "Epoch 7/15\n",
            "559/559 - 4s - loss: 0.1000 - accuracy: 0.9669 - precision: 0.9691 - recall: 0.9644 - val_loss: 0.2079 - val_accuracy: 0.9219 - val_precision: 0.9184 - val_recall: 0.9302 - 4s/epoch - 7ms/step\n",
            "Epoch 8/15\n",
            "559/559 - 4s - loss: 0.0817 - accuracy: 0.9748 - precision: 0.9782 - recall: 0.9712 - val_loss: 0.2077 - val_accuracy: 0.9189 - val_precision: 0.9271 - val_recall: 0.9135 - 4s/epoch - 7ms/step\n",
            "Epoch 9/15\n",
            "559/559 - 4s - loss: 0.0690 - accuracy: 0.9798 - precision: 0.9825 - recall: 0.9769 - val_loss: 0.2447 - val_accuracy: 0.9108 - val_precision: 0.9555 - val_recall: 0.8663 - 4s/epoch - 7ms/step\n",
            "Epoch 10/15\n",
            "559/559 - 4s - loss: 0.0591 - accuracy: 0.9829 - precision: 0.9854 - recall: 0.9801 - val_loss: 0.2249 - val_accuracy: 0.9174 - val_precision: 0.9392 - val_recall: 0.8968 - 4s/epoch - 7ms/step\n",
            "Epoch 11/15\n",
            "559/559 - 4s - loss: 0.0490 - accuracy: 0.9858 - precision: 0.9872 - recall: 0.9843 - val_loss: 0.2201 - val_accuracy: 0.9259 - val_precision: 0.9350 - val_recall: 0.9194 - 4s/epoch - 7ms/step\n",
            "Epoch 12/15\n",
            "559/559 - 4s - loss: 0.0419 - accuracy: 0.9886 - precision: 0.9903 - recall: 0.9868 - val_loss: 0.2259 - val_accuracy: 0.9239 - val_precision: 0.9188 - val_recall: 0.9341 - 4s/epoch - 7ms/step\n",
            "Epoch 13/15\n",
            "559/559 - 4s - loss: 0.0338 - accuracy: 0.9915 - precision: 0.9925 - recall: 0.9905 - val_loss: 0.2746 - val_accuracy: 0.9083 - val_precision: 0.9514 - val_recall: 0.8653 - 4s/epoch - 7ms/step\n",
            "Epoch 14/15\n",
            "559/559 - 4s - loss: 0.0289 - accuracy: 0.9929 - precision: 0.9940 - recall: 0.9917 - val_loss: 0.2444 - val_accuracy: 0.9249 - val_precision: 0.9331 - val_recall: 0.9194 - 4s/epoch - 7ms/step\n",
            "Epoch 15/15\n",
            "559/559 - 4s - loss: 0.0265 - accuracy: 0.9933 - precision: 0.9936 - recall: 0.9929 - val_loss: 0.2533 - val_accuracy: 0.9219 - val_precision: 0.9120 - val_recall: 0.9381 - 4s/epoch - 7ms/step\n"
          ]
        },
        {
          "output_type": "display_data",
          "data": {
            "image/png": "[encoded data removed]",
            "text/plain": [
              "<Figure size 432x288 with 2 Axes>"
            ]
          },
          "metadata": {
            "needs_background": "light"
          }
        },
        {
          "output_type": "stream",
          "name": "stdout",
          "text": [
            "              precision    recall  f1-score   support\n",
            "\n",
            "       False       0.93      0.91      0.92       968\n",
            "        True       0.92      0.94      0.93      1017\n",
            "\n",
            "    accuracy                           0.92      1985\n",
            "   macro avg       0.92      0.92      0.92      1985\n",
            "weighted avg       0.92      0.92      0.92      1985\n",
            "\n",
            "             !!!!!  split number : 6  !!!!!\n",
            "     In training: Counter({True: 8962, False: 8905})\n",
            "     In testing: Counter({False: 1021, True: 964})\n",
            "Epoch 1/15\n",
            "559/559 - 5s - loss: 0.6318 - accuracy: 0.6777 - precision: 0.7642 - recall: 0.5171 - val_loss: 0.4632 - val_accuracy: 0.8625 - val_precision: 0.8319 - val_recall: 0.8983 - 5s/epoch - 10ms/step\n",
            "Epoch 2/15\n",
            "559/559 - 4s - loss: 0.3507 - accuracy: 0.8785 - precision: 0.8787 - recall: 0.8792 - val_loss: 0.2942 - val_accuracy: 0.8882 - val_precision: 0.8467 - val_recall: 0.9398 - 4s/epoch - 7ms/step\n",
            "Epoch 3/15\n",
            "559/559 - 4s - loss: 0.2362 - accuracy: 0.9162 - precision: 0.9159 - recall: 0.9172 - val_loss: 0.2263 - val_accuracy: 0.9169 - val_precision: 0.9056 - val_recall: 0.9253 - 4s/epoch - 7ms/step\n",
            "Epoch 4/15\n",
            "559/559 - 4s - loss: 0.1805 - accuracy: 0.9362 - precision: 0.9378 - recall: 0.9348 - val_loss: 0.1966 - val_accuracy: 0.9270 - val_precision: 0.9306 - val_recall: 0.9180 - 4s/epoch - 7ms/step\n",
            "Epoch 5/15\n",
            "559/559 - 4s - loss: 0.1435 - accuracy: 0.9515 - precision: 0.9532 - recall: 0.9499 - val_loss: 0.1828 - val_accuracy: 0.9335 - val_precision: 0.9202 - val_recall: 0.9450 - 4s/epoch - 7ms/step\n",
            "Epoch 6/15\n",
            "559/559 - 4s - loss: 0.1168 - accuracy: 0.9612 - precision: 0.9640 - recall: 0.9585 - val_loss: 0.1751 - val_accuracy: 0.9390 - val_precision: 0.9228 - val_recall: 0.9544 - 4s/epoch - 7ms/step\n",
            "Epoch 7/15\n",
            "559/559 - 4s - loss: 0.0963 - accuracy: 0.9687 - precision: 0.9700 - recall: 0.9674 - val_loss: 0.1656 - val_accuracy: 0.9370 - val_precision: 0.9393 - val_recall: 0.9305 - 4s/epoch - 7ms/step\n",
            "Epoch 8/15\n",
            "559/559 - 4s - loss: 0.0809 - accuracy: 0.9753 - precision: 0.9788 - recall: 0.9718 - val_loss: 0.1770 - val_accuracy: 0.9325 - val_precision: 0.9621 - val_recall: 0.8963 - 4s/epoch - 7ms/step\n",
            "Epoch 9/15\n",
            "559/559 - 4s - loss: 0.0663 - accuracy: 0.9798 - precision: 0.9827 - recall: 0.9769 - val_loss: 0.1718 - val_accuracy: 0.9335 - val_precision: 0.9571 - val_recall: 0.9035 - 4s/epoch - 7ms/step\n",
            "Epoch 10/15\n",
            "559/559 - 4s - loss: 0.0569 - accuracy: 0.9833 - precision: 0.9859 - recall: 0.9807 - val_loss: 0.1772 - val_accuracy: 0.9345 - val_precision: 0.9603 - val_recall: 0.9025 - 4s/epoch - 7ms/step\n",
            "Epoch 11/15\n",
            "559/559 - 4s - loss: 0.0468 - accuracy: 0.9862 - precision: 0.9886 - recall: 0.9839 - val_loss: 0.1690 - val_accuracy: 0.9401 - val_precision: 0.9342 - val_recall: 0.9429 - 4s/epoch - 7ms/step\n",
            "Epoch 12/15\n",
            "559/559 - 4s - loss: 0.0394 - accuracy: 0.9893 - precision: 0.9910 - recall: 0.9876 - val_loss: 0.1767 - val_accuracy: 0.9385 - val_precision: 0.9527 - val_recall: 0.9191 - 4s/epoch - 7ms/step\n",
            "Epoch 13/15\n",
            "559/559 - 4s - loss: 0.0327 - accuracy: 0.9918 - precision: 0.9931 - recall: 0.9906 - val_loss: 0.1775 - val_accuracy: 0.9406 - val_precision: 0.9415 - val_recall: 0.9357 - 4s/epoch - 7ms/step\n",
            "Epoch 14/15\n",
            "559/559 - 4s - loss: 0.0288 - accuracy: 0.9926 - precision: 0.9938 - recall: 0.9914 - val_loss: 0.1827 - val_accuracy: 0.9395 - val_precision: 0.9369 - val_recall: 0.9388 - 4s/epoch - 7ms/step\n",
            "Epoch 15/15\n",
            "559/559 - 4s - loss: 0.0243 - accuracy: 0.9937 - precision: 0.9943 - recall: 0.9931 - val_loss: 0.2196 - val_accuracy: 0.9259 - val_precision: 0.8955 - val_recall: 0.9595 - 4s/epoch - 7ms/step\n"
          ]
        },
        {
          "output_type": "display_data",
          "data": {
            "image/png": "[encoded data removed]",
            "text/plain": [
              "<Figure size 432x288 with 2 Axes>"
            ]
          },
          "metadata": {
            "needs_background": "light"
          }
        },
        {
          "output_type": "stream",
          "name": "stdout",
          "text": [
            "              precision    recall  f1-score   support\n",
            "\n",
            "       False       0.95      0.93      0.94      1021\n",
            "        True       0.93      0.94      0.93       964\n",
            "\n",
            "    accuracy                           0.94      1985\n",
            "   macro avg       0.94      0.94      0.94      1985\n",
            "weighted avg       0.94      0.94      0.94      1985\n",
            "\n",
            "             !!!!!  split number : 7  !!!!!\n",
            "     In training: Counter({True: 8984, False: 8883})\n",
            "     In testing: Counter({False: 1043, True: 942})\n",
            "Epoch 1/15\n",
            "559/559 - 5s - loss: 0.6242 - accuracy: 0.6921 - precision: 0.7123 - recall: 0.6503 - val_loss: 0.4694 - val_accuracy: 0.8519 - val_precision: 0.8506 - val_recall: 0.8344 - 5s/epoch - 10ms/step\n",
            "Epoch 2/15\n",
            "559/559 - 4s - loss: 0.3559 - accuracy: 0.8781 - precision: 0.8806 - recall: 0.8763 - val_loss: 0.3026 - val_accuracy: 0.8897 - val_precision: 0.8793 - val_recall: 0.8896 - 4s/epoch - 7ms/step\n",
            "Epoch 3/15\n",
            "559/559 - 4s - loss: 0.2378 - accuracy: 0.9178 - precision: 0.9169 - recall: 0.9199 - val_loss: 0.2477 - val_accuracy: 0.9053 - val_precision: 0.9071 - val_recall: 0.8917 - 4s/epoch - 7ms/step\n",
            "Epoch 4/15\n",
            "559/559 - 4s - loss: 0.1787 - accuracy: 0.9385 - precision: 0.9388 - recall: 0.9389 - val_loss: 0.2227 - val_accuracy: 0.9204 - val_precision: 0.9336 - val_recall: 0.8960 - 4s/epoch - 7ms/step\n",
            "Epoch 5/15\n",
            "559/559 - 4s - loss: 0.1413 - accuracy: 0.9523 - precision: 0.9544 - recall: 0.9505 - val_loss: 0.2156 - val_accuracy: 0.9239 - val_precision: 0.9520 - val_recall: 0.8843 - 4s/epoch - 7ms/step\n",
            "Epoch 6/15\n",
            "559/559 - 4s - loss: 0.1151 - accuracy: 0.9625 - precision: 0.9645 - recall: 0.9608 - val_loss: 0.1968 - val_accuracy: 0.9295 - val_precision: 0.9330 - val_recall: 0.9172 - 4s/epoch - 7ms/step\n",
            "Epoch 7/15\n",
            "559/559 - 4s - loss: 0.0954 - accuracy: 0.9684 - precision: 0.9718 - recall: 0.9653 - val_loss: 0.1920 - val_accuracy: 0.9315 - val_precision: 0.9343 - val_recall: 0.9204 - 4s/epoch - 7ms/step\n",
            "Epoch 8/15\n",
            "559/559 - 4s - loss: 0.0783 - accuracy: 0.9749 - precision: 0.9782 - recall: 0.9718 - val_loss: 0.2088 - val_accuracy: 0.9229 - val_precision: 0.8910 - val_recall: 0.9544 - 4s/epoch - 7ms/step\n",
            "Epoch 9/15\n",
            "559/559 - 4s - loss: 0.0665 - accuracy: 0.9789 - precision: 0.9813 - recall: 0.9766 - val_loss: 0.1951 - val_accuracy: 0.9305 - val_precision: 0.9170 - val_recall: 0.9384 - 4s/epoch - 7ms/step\n",
            "Epoch 10/15\n",
            "559/559 - 4s - loss: 0.0563 - accuracy: 0.9838 - precision: 0.9849 - recall: 0.9829 - val_loss: 0.2167 - val_accuracy: 0.9244 - val_precision: 0.9573 - val_recall: 0.8800 - 4s/epoch - 7ms/step\n",
            "Epoch 11/15\n",
            "559/559 - 4s - loss: 0.0458 - accuracy: 0.9868 - precision: 0.9887 - recall: 0.9850 - val_loss: 0.2018 - val_accuracy: 0.9310 - val_precision: 0.9428 - val_recall: 0.9098 - 4s/epoch - 8ms/step\n",
            "Epoch 12/15\n",
            "559/559 - 4s - loss: 0.0394 - accuracy: 0.9886 - precision: 0.9904 - recall: 0.9869 - val_loss: 0.2055 - val_accuracy: 0.9325 - val_precision: 0.9235 - val_recall: 0.9352 - 4s/epoch - 8ms/step\n",
            "Epoch 13/15\n",
            "559/559 - 4s - loss: 0.0325 - accuracy: 0.9910 - precision: 0.9924 - recall: 0.9896 - val_loss: 0.2140 - val_accuracy: 0.9310 - val_precision: 0.9409 - val_recall: 0.9119 - 4s/epoch - 7ms/step\n",
            "Epoch 14/15\n",
            "559/559 - 4s - loss: 0.0276 - accuracy: 0.9928 - precision: 0.9939 - recall: 0.9919 - val_loss: 0.2169 - val_accuracy: 0.9300 - val_precision: 0.9303 - val_recall: 0.9214 - 4s/epoch - 7ms/step\n",
            "Epoch 15/15\n",
            "559/559 - 4s - loss: 0.0229 - accuracy: 0.9949 - precision: 0.9958 - recall: 0.9941 - val_loss: 0.2243 - val_accuracy: 0.9305 - val_precision: 0.9313 - val_recall: 0.9214 - 4s/epoch - 7ms/step\n"
          ]
        },
        {
          "output_type": "display_data",
          "data": {
            "image/png": "[encoded data removed]",
            "text/plain": [
              "<Figure size 432x288 with 2 Axes>"
            ]
          },
          "metadata": {
            "needs_background": "light"
          }
        },
        {
          "output_type": "stream",
          "name": "stdout",
          "text": [
            "              precision    recall  f1-score   support\n",
            "\n",
            "       False       0.94      0.93      0.94      1043\n",
            "        True       0.93      0.94      0.93       942\n",
            "\n",
            "    accuracy                           0.94      1985\n",
            "   macro avg       0.93      0.94      0.93      1985\n",
            "weighted avg       0.94      0.94      0.94      1985\n",
            "\n",
            "             !!!!!  split number : 8  !!!!!\n",
            "     In training: Counter({True: 8947, False: 8920})\n",
            "     In testing: Counter({False: 1006, True: 979})\n",
            "Epoch 1/15\n",
            "559/559 - 5s - loss: 0.6159 - accuracy: 0.7096 - precision: 0.7549 - recall: 0.6221 - val_loss: 0.4476 - val_accuracy: 0.8574 - val_precision: 0.8005 - val_recall: 0.9469 - 5s/epoch - 9ms/step\n",
            "Epoch 2/15\n",
            "559/559 - 4s - loss: 0.3337 - accuracy: 0.8796 - precision: 0.8800 - recall: 0.8795 - val_loss: 0.2733 - val_accuracy: 0.8987 - val_precision: 0.8712 - val_recall: 0.9326 - 4s/epoch - 7ms/step\n",
            "Epoch 3/15\n",
            "559/559 - 4s - loss: 0.2236 - accuracy: 0.9208 - precision: 0.9199 - recall: 0.9221 - val_loss: 0.2168 - val_accuracy: 0.9144 - val_precision: 0.9157 - val_recall: 0.9101 - 4s/epoch - 7ms/step\n",
            "Epoch 4/15\n",
            "559/559 - 4s - loss: 0.1673 - accuracy: 0.9417 - precision: 0.9424 - recall: 0.9411 - val_loss: 0.1917 - val_accuracy: 0.9285 - val_precision: 0.9156 - val_recall: 0.9418 - 4s/epoch - 7ms/step\n",
            "Epoch 5/15\n",
            "559/559 - 4s - loss: 0.1325 - accuracy: 0.9552 - precision: 0.9593 - recall: 0.9509 - val_loss: 0.1850 - val_accuracy: 0.9300 - val_precision: 0.9062 - val_recall: 0.9571 - 4s/epoch - 7ms/step\n",
            "Epoch 6/15\n",
            "559/559 - 4s - loss: 0.1077 - accuracy: 0.9646 - precision: 0.9669 - recall: 0.9622 - val_loss: 0.1711 - val_accuracy: 0.9330 - val_precision: 0.9290 - val_recall: 0.9356 - 4s/epoch - 7ms/step\n",
            "Epoch 7/15\n",
            "559/559 - 4s - loss: 0.0881 - accuracy: 0.9720 - precision: 0.9759 - recall: 0.9680 - val_loss: 0.1687 - val_accuracy: 0.9320 - val_precision: 0.9280 - val_recall: 0.9346 - 4s/epoch - 7ms/step\n",
            "Epoch 8/15\n",
            "559/559 - 4s - loss: 0.0735 - accuracy: 0.9766 - precision: 0.9789 - recall: 0.9743 - val_loss: 0.1788 - val_accuracy: 0.9275 - val_precision: 0.9494 - val_recall: 0.9009 - 4s/epoch - 7ms/step\n",
            "Epoch 9/15\n",
            "559/559 - 4s - loss: 0.0606 - accuracy: 0.9815 - precision: 0.9837 - recall: 0.9793 - val_loss: 0.1816 - val_accuracy: 0.9335 - val_precision: 0.9060 - val_recall: 0.9653 - 4s/epoch - 7ms/step\n",
            "Epoch 10/15\n",
            "559/559 - 4s - loss: 0.0489 - accuracy: 0.9847 - precision: 0.9879 - recall: 0.9814 - val_loss: 0.1864 - val_accuracy: 0.9340 - val_precision: 0.9069 - val_recall: 0.9653 - 4s/epoch - 7ms/step\n",
            "Epoch 11/15\n",
            "559/559 - 4s - loss: 0.0416 - accuracy: 0.9882 - precision: 0.9899 - recall: 0.9866 - val_loss: 0.1907 - val_accuracy: 0.9315 - val_precision: 0.9041 - val_recall: 0.9632 - 4s/epoch - 7ms/step\n",
            "Epoch 12/15\n",
            "559/559 - 4s - loss: 0.0345 - accuracy: 0.9907 - precision: 0.9920 - recall: 0.9893 - val_loss: 0.2068 - val_accuracy: 0.9244 - val_precision: 0.9580 - val_recall: 0.8856 - 4s/epoch - 7ms/step\n",
            "Epoch 13/15\n",
            "559/559 - 4s - loss: 0.0290 - accuracy: 0.9923 - precision: 0.9937 - recall: 0.9909 - val_loss: 0.1938 - val_accuracy: 0.9330 - val_precision: 0.9415 - val_recall: 0.9213 - 4s/epoch - 7ms/step\n",
            "Epoch 14/15\n",
            "559/559 - 4s - loss: 0.0240 - accuracy: 0.9943 - precision: 0.9949 - recall: 0.9937 - val_loss: 0.2020 - val_accuracy: 0.9310 - val_precision: 0.9177 - val_recall: 0.9448 - 4s/epoch - 7ms/step\n",
            "Epoch 15/15\n",
            "559/559 - 4s - loss: 0.0194 - accuracy: 0.9957 - precision: 0.9964 - recall: 0.9950 - val_loss: 0.2187 - val_accuracy: 0.9290 - val_precision: 0.9525 - val_recall: 0.9009 - 4s/epoch - 7ms/step\n"
          ]
        },
        {
          "output_type": "display_data",
          "data": {
            "image/png": "[encoded data removed]",
            "text/plain": [
              "<Figure size 432x288 with 2 Axes>"
            ]
          },
          "metadata": {
            "needs_background": "light"
          }
        },
        {
          "output_type": "stream",
          "name": "stdout",
          "text": [
            "              precision    recall  f1-score   support\n",
            "\n",
            "       False       0.94      0.94      0.94      1006\n",
            "        True       0.94      0.94      0.94       979\n",
            "\n",
            "    accuracy                           0.94      1985\n",
            "   macro avg       0.94      0.94      0.94      1985\n",
            "weighted avg       0.94      0.94      0.94      1985\n",
            "\n",
            "             !!!!!  split number : 9  !!!!!\n",
            "     In training: Counter({False: 8943, True: 8924})\n",
            "     In testing: Counter({True: 1002, False: 983})\n",
            "Epoch 1/15\n",
            "559/559 - 5s - loss: 0.6370 - accuracy: 0.6659 - precision: 0.7353 - recall: 0.5174 - val_loss: 0.4789 - val_accuracy: 0.8433 - val_precision: 0.8801 - val_recall: 0.7984 - 5s/epoch - 9ms/step\n",
            "Epoch 2/15\n",
            "559/559 - 4s - loss: 0.3551 - accuracy: 0.8761 - precision: 0.8786 - recall: 0.8725 - val_loss: 0.3027 - val_accuracy: 0.8882 - val_precision: 0.8591 - val_recall: 0.9311 - 4s/epoch - 7ms/step\n",
            "Epoch 3/15\n",
            "559/559 - 4s - loss: 0.2338 - accuracy: 0.9168 - precision: 0.9134 - recall: 0.9207 - val_loss: 0.2471 - val_accuracy: 0.9139 - val_precision: 0.9297 - val_recall: 0.8972 - 4s/epoch - 7ms/step\n",
            "Epoch 4/15\n",
            "559/559 - 4s - loss: 0.1761 - accuracy: 0.9375 - precision: 0.9374 - recall: 0.9376 - val_loss: 0.2219 - val_accuracy: 0.9189 - val_precision: 0.9376 - val_recall: 0.8992 - 4s/epoch - 7ms/step\n",
            "Epoch 5/15\n",
            "559/559 - 4s - loss: 0.1394 - accuracy: 0.9524 - precision: 0.9542 - recall: 0.9504 - val_loss: 0.2048 - val_accuracy: 0.9234 - val_precision: 0.9259 - val_recall: 0.9222 - 4s/epoch - 7ms/step\n",
            "Epoch 6/15\n",
            "559/559 - 4s - loss: 0.1144 - accuracy: 0.9614 - precision: 0.9635 - recall: 0.9591 - val_loss: 0.2041 - val_accuracy: 0.9184 - val_precision: 0.9008 - val_recall: 0.9421 - 4s/epoch - 7ms/step\n",
            "Epoch 7/15\n",
            "559/559 - 4s - loss: 0.0938 - accuracy: 0.9701 - precision: 0.9724 - recall: 0.9676 - val_loss: 0.1937 - val_accuracy: 0.9270 - val_precision: 0.9213 - val_recall: 0.9351 - 4s/epoch - 7ms/step\n",
            "Epoch 8/15\n",
            "559/559 - 4s - loss: 0.0784 - accuracy: 0.9747 - precision: 0.9771 - recall: 0.9721 - val_loss: 0.1938 - val_accuracy: 0.9259 - val_precision: 0.9179 - val_recall: 0.9371 - 4s/epoch - 7ms/step\n",
            "Epoch 9/15\n",
            "559/559 - 4s - loss: 0.0652 - accuracy: 0.9801 - precision: 0.9822 - recall: 0.9779 - val_loss: 0.1935 - val_accuracy: 0.9285 - val_precision: 0.9370 - val_recall: 0.9202 - 4s/epoch - 6ms/step\n",
            "Epoch 10/15\n",
            "559/559 - 4s - loss: 0.0553 - accuracy: 0.9835 - precision: 0.9855 - recall: 0.9814 - val_loss: 0.1958 - val_accuracy: 0.9290 - val_precision: 0.9344 - val_recall: 0.9242 - 4s/epoch - 7ms/step\n",
            "Epoch 11/15\n",
            "559/559 - 4s - loss: 0.0458 - accuracy: 0.9867 - precision: 0.9883 - recall: 0.9850 - val_loss: 0.2042 - val_accuracy: 0.9300 - val_precision: 0.9472 - val_recall: 0.9122 - 4s/epoch - 7ms/step\n",
            "Epoch 12/15\n",
            "559/559 - 4s - loss: 0.0383 - accuracy: 0.9896 - precision: 0.9907 - recall: 0.9885 - val_loss: 0.2040 - val_accuracy: 0.9285 - val_precision: 0.9207 - val_recall: 0.9391 - 4s/epoch - 7ms/step\n",
            "Epoch 13/15\n",
            "559/559 - 4s - loss: 0.0324 - accuracy: 0.9919 - precision: 0.9927 - recall: 0.9911 - val_loss: 0.2112 - val_accuracy: 0.9275 - val_precision: 0.9395 - val_recall: 0.9152 - 4s/epoch - 7ms/step\n",
            "Epoch 14/15\n",
            "559/559 - 4s - loss: 0.0271 - accuracy: 0.9932 - precision: 0.9942 - recall: 0.9922 - val_loss: 0.2256 - val_accuracy: 0.9264 - val_precision: 0.9486 - val_recall: 0.9032 - 4s/epoch - 7ms/step\n",
            "Epoch 15/15\n",
            "559/559 - 4s - loss: 0.0221 - accuracy: 0.9946 - precision: 0.9956 - recall: 0.9936 - val_loss: 0.2320 - val_accuracy: 0.9285 - val_precision: 0.9479 - val_recall: 0.9082 - 4s/epoch - 7ms/step\n"
          ]
        },
        {
          "output_type": "display_data",
          "data": {
            "image/png": "[encoded data removed]",
            "text/plain": [
              "<Figure size 432x288 with 2 Axes>"
            ]
          },
          "metadata": {
            "needs_background": "light"
          }
        },
        {
          "output_type": "stream",
          "name": "stdout",
          "text": [
            "              precision    recall  f1-score   support\n",
            "\n",
            "       False       0.93      0.94      0.94       983\n",
            "        True       0.94      0.93      0.94      1002\n",
            "\n",
            "    accuracy                           0.94      1985\n",
            "   macro avg       0.94      0.94      0.94      1985\n",
            "weighted avg       0.94      0.94      0.94      1985\n",
            "\n",
            "             !!!!!  split number : 10  !!!!!\n",
            "     In training: Counter({True: 8935, False: 8932})\n",
            "     In testing: Counter({False: 994, True: 991})\n",
            "Epoch 1/15\n",
            "559/559 - 5s - loss: 0.6310 - accuracy: 0.6708 - precision: 0.6671 - recall: 0.6820 - val_loss: 0.4624 - val_accuracy: 0.8327 - val_precision: 0.8749 - val_recall: 0.7760 - 5s/epoch - 10ms/step\n",
            "Epoch 2/15\n",
            "559/559 - 4s - loss: 0.3514 - accuracy: 0.8762 - precision: 0.8796 - recall: 0.8717 - val_loss: 0.2841 - val_accuracy: 0.8932 - val_precision: 0.9184 - val_recall: 0.8628 - 4s/epoch - 7ms/step\n",
            "Epoch 3/15\n",
            "559/559 - 4s - loss: 0.2349 - accuracy: 0.9172 - precision: 0.9171 - recall: 0.9174 - val_loss: 0.2175 - val_accuracy: 0.9199 - val_precision: 0.9168 - val_recall: 0.9233 - 4s/epoch - 7ms/step\n",
            "Epoch 4/15\n",
            "559/559 - 4s - loss: 0.1771 - accuracy: 0.9403 - precision: 0.9412 - recall: 0.9393 - val_loss: 0.2050 - val_accuracy: 0.9139 - val_precision: 0.8782 - val_recall: 0.9606 - 4s/epoch - 7ms/step\n",
            "Epoch 5/15\n",
            "559/559 - 4s - loss: 0.1401 - accuracy: 0.9514 - precision: 0.9533 - recall: 0.9492 - val_loss: 0.1690 - val_accuracy: 0.9390 - val_precision: 0.9421 - val_recall: 0.9354 - 4s/epoch - 7ms/step\n",
            "Epoch 6/15\n",
            "559/559 - 4s - loss: 0.1127 - accuracy: 0.9625 - precision: 0.9664 - recall: 0.9584 - val_loss: 0.1592 - val_accuracy: 0.9385 - val_precision: 0.9349 - val_recall: 0.9425 - 4s/epoch - 7ms/step\n",
            "Epoch 7/15\n",
            "559/559 - 4s - loss: 0.0940 - accuracy: 0.9695 - precision: 0.9719 - recall: 0.9670 - val_loss: 0.1592 - val_accuracy: 0.9406 - val_precision: 0.9267 - val_recall: 0.9566 - 4s/epoch - 7ms/step\n",
            "Epoch 8/15\n",
            "559/559 - 4s - loss: 0.0777 - accuracy: 0.9760 - precision: 0.9779 - recall: 0.9741 - val_loss: 0.1531 - val_accuracy: 0.9406 - val_precision: 0.9542 - val_recall: 0.9253 - 4s/epoch - 7ms/step\n",
            "Epoch 9/15\n",
            "559/559 - 4s - loss: 0.0640 - accuracy: 0.9805 - precision: 0.9819 - recall: 0.9790 - val_loss: 0.1513 - val_accuracy: 0.9421 - val_precision: 0.9525 - val_recall: 0.9304 - 4s/epoch - 7ms/step\n",
            "Epoch 10/15\n",
            "559/559 - 4s - loss: 0.0532 - accuracy: 0.9844 - precision: 0.9860 - recall: 0.9829 - val_loss: 0.1507 - val_accuracy: 0.9426 - val_precision: 0.9434 - val_recall: 0.9415 - 4s/epoch - 7ms/step\n",
            "Epoch 11/15\n",
            "559/559 - 4s - loss: 0.0458 - accuracy: 0.9872 - precision: 0.9881 - recall: 0.9862 - val_loss: 0.1758 - val_accuracy: 0.9360 - val_precision: 0.9075 - val_recall: 0.9707 - 4s/epoch - 7ms/step\n",
            "Epoch 12/15\n",
            "559/559 - 4s - loss: 0.0368 - accuracy: 0.9901 - precision: 0.9910 - recall: 0.9893 - val_loss: 0.1568 - val_accuracy: 0.9421 - val_precision: 0.9525 - val_recall: 0.9304 - 4s/epoch - 7ms/step\n",
            "Epoch 13/15\n",
            "559/559 - 4s - loss: 0.0314 - accuracy: 0.9918 - precision: 0.9930 - recall: 0.9905 - val_loss: 0.1668 - val_accuracy: 0.9395 - val_precision: 0.9232 - val_recall: 0.9586 - 4s/epoch - 7ms/step\n",
            "Epoch 14/15\n",
            "559/559 - 4s - loss: 0.0252 - accuracy: 0.9935 - precision: 0.9941 - recall: 0.9929 - val_loss: 0.1831 - val_accuracy: 0.9385 - val_precision: 0.9142 - val_recall: 0.9677 - 4s/epoch - 7ms/step\n",
            "Epoch 15/15\n",
            "559/559 - 4s - loss: 0.0211 - accuracy: 0.9952 - precision: 0.9963 - recall: 0.9941 - val_loss: 0.1891 - val_accuracy: 0.9365 - val_precision: 0.9107 - val_recall: 0.9677 - 4s/epoch - 7ms/step\n"
          ]
        },
        {
          "output_type": "display_data",
          "data": {
            "image/png": "[encoded data removed]",
            "text/plain": [
              "<Figure size 432x288 with 2 Axes>"
            ]
          },
          "metadata": {
            "needs_background": "light"
          }
        },
        {
          "output_type": "stream",
          "name": "stdout",
          "text": [
            "              precision    recall  f1-score   support\n",
            "\n",
            "       False       0.95      0.94      0.94       994\n",
            "        True       0.94      0.95      0.95       991\n",
            "\n",
            "    accuracy                           0.95      1985\n",
            "   macro avg       0.95      0.95      0.95      1985\n",
            "weighted avg       0.95      0.95      0.95      1985\n",
            "\n",
            "mean accuracy for this experiment is 0.94\n",
            "mean recall for this experiment is 0.94\n",
            "mean precision for this experiment is 0.93\n",
            "mean f1_score for this experiment is 0.94\n"
          ]
        }
      ]
    }
  ]
}